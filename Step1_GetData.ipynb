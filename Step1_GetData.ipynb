{
 "cells": [
  {
   "cell_type": "markdown",
   "metadata": {
    "toc": true
   },
   "source": [
    "<h1>Table of Contents<span class=\"tocSkip\"></span></h1>\n",
    "<div class=\"toc\"><ul class=\"toc-item\"><li><span><a href=\"#Student-Info\" data-toc-modified-id=\"Student-Info-1\"><span class=\"toc-item-num\">1&nbsp;&nbsp;</span>Student Info</a></span></li><li><span><a href=\"#Introduction\" data-toc-modified-id=\"Introduction-2\"><span class=\"toc-item-num\">2&nbsp;&nbsp;</span>Introduction</a></span></li><li><span><a href=\"#Get-Market-Data---NDX\" data-toc-modified-id=\"Get-Market-Data---NDX-3\"><span class=\"toc-item-num\">3&nbsp;&nbsp;</span>Get Market Data - NDX</a></span><ul class=\"toc-item\"><li><span><a href=\"#Add-Technical-Indicator---MA-Data\" data-toc-modified-id=\"Add-Technical-Indicator---MA-Data-3.1\"><span class=\"toc-item-num\">3.1&nbsp;&nbsp;</span>Add Technical Indicator - MA Data</a></span></li></ul></li><li><span><a href=\"#Get-Covid19-Data\" data-toc-modified-id=\"Get-Covid19-Data-4\"><span class=\"toc-item-num\">4&nbsp;&nbsp;</span>Get Covid19 Data</a></span><ul class=\"toc-item\"><li><span><a href=\"#Add-Covid19-USA--No.-Moving--Averages\" data-toc-modified-id=\"Add-Covid19-USA--No.-Moving--Averages-4.1\"><span class=\"toc-item-num\">4.1&nbsp;&nbsp;</span>Add Covid19 USA  No. Moving  Averages</a></span></li><li><span><a href=\"#Add-Nasdaq-daily-closing-price\" data-toc-modified-id=\"Add-Nasdaq-daily-closing-price-4.2\"><span class=\"toc-item-num\">4.2&nbsp;&nbsp;</span>Add Nasdaq daily closing price</a></span></li></ul></li><li><span><a href=\"#Save-data-to-file\" data-toc-modified-id=\"Save-data-to-file-5\"><span class=\"toc-item-num\">5&nbsp;&nbsp;</span>Save data to file</a></span></li></ul></div>"
   ]
  },
  {
   "cell_type": "markdown",
   "metadata": {},
   "source": [
    "# Student Info\n",
    "Name: Susanna Mir\n",
    "Cohort: DS-PT\n",
    "Instructor: Lindsey Berlin"
   ]
  },
  {
   "cell_type": "markdown",
   "metadata": {},
   "source": [
    "********************************"
   ]
  },
  {
   "cell_type": "markdown",
   "metadata": {},
   "source": [
    "# Introduction\n",
    "\n"
   ]
  },
  {
   "cell_type": "markdown",
   "metadata": {},
   "source": [
    "Project:\n",
    "    \n",
    "\n",
    "Steps:\n",
    "    \n",
    "    1) Get daily Nasdaq data from yahoo finance for the previous 5 years.  Add moving average technical indicator\n",
    "       data to this dataset.  Get Covid19 Case number data from ECDC(European Centre Disease Control) and create daily moving averages joined with NASDAQ closing price by date.\n",
    "    \n",
    "    3) Create time series regression model to analyse if the daily NASDAQ index stock market price changed with a faster ma during the covid19 stock market crash\n",
    "    \n",
    "    4) Create time series regression model to analyse if the NASDAQ index daily stock market daily closing price was effected by the 7/14/21/28 day covid19 case number moving averages in the USA.\n",
    "    \n",
    "    5) Hypothesis test:  There was a change in NASDAQ stock market index price average within 6 months after the covid19 crash as compared to 6 months prior."
   ]
  },
  {
   "cell_type": "code",
   "execution_count": null,
   "metadata": {},
   "outputs": [],
   "source": [
    "### Get data from Yahoo Finance using yfinance package"
   ]
  },
  {
   "cell_type": "code",
   "execution_count": null,
   "metadata": {},
   "outputs": [],
   "source": [
    "#pip install yfinance"
   ]
  },
  {
   "cell_type": "code",
   "execution_count": null,
   "metadata": {},
   "outputs": [],
   "source": [
    "import pandas as pd\n",
    "import numpy as np\n",
    "import yfinance as yf\n",
    "import gc; gc.enable()\n",
    "import warnings\n",
    "warnings.filterwarnings(\"ignore\")\n",
    "\n",
    "#Dates to extract NASDAQ stock market ticker daily data from Yahoo finance\n",
    "start_date = \"2019-07-01\"\n",
    "end_date = \"2020-06-30\""
   ]
  },
  {
   "cell_type": "markdown",
   "metadata": {},
   "source": [
    "# Get Market Data - NDX "
   ]
  },
  {
   "cell_type": "markdown",
   "metadata": {},
   "source": [
    "source for stocks list: [https://whalewisdom.com/filer/renaissance-technologies-llc]"
   ]
  },
  {
   "cell_type": "code",
   "execution_count": null,
   "metadata": {},
   "outputs": [],
   "source": [
    "# df_nasdaq_100 = yf.download(\"NDX\", start=\"2015-01-01\", end=\"2020-11-02\")\n",
    "\n",
    "df_nasdaq_100 = yf.download(\"NDX\", start=start_date, end=end_date)"
   ]
  },
  {
   "cell_type": "code",
   "execution_count": null,
   "metadata": {},
   "outputs": [],
   "source": [
    "print(df_nasdaq_100)"
   ]
  },
  {
   "cell_type": "markdown",
   "metadata": {},
   "source": [
    "## Add Technical Indicator - MA Data"
   ]
  },
  {
   "cell_type": "code",
   "execution_count": null,
   "metadata": {},
   "outputs": [],
   "source": [
    "# # Keep environ the period of the first four months before and after covid19 stock market crash date\n",
    "# # \n",
    "# start_date = \"2019-06-01\"\n",
    "# end_date = \"30-07-20\"\n",
    "# #greater than the start date and smaller than the end date\n",
    "# #ndx_data_covid_pre_post = ndx_data\n",
    "# # ndx_data_covid_pre_post = (ndx_data['Date'] > '01/12/19') & (ndx_data['Date'] <= end_date)\n",
    "# #ndx_data_covid_pre_post = ndx_data[ndx_data[\"Date\"].isin(pd.date_range(\"2019-12-01\", \"30-07-20\"))]\n",
    "# df_nasdaq_100 = df_nasdaq_100[df_nasdaq_100[\"Date\"].isin(pd.date_range(start_date, end_date))]\n",
    "# df_nasdaq_100.tail()"
   ]
  },
  {
   "cell_type": "code",
   "execution_count": null,
   "metadata": {},
   "outputs": [],
   "source": [
    "#Calculate moving average data\n",
    "df_nasdaq_100['ndx_ma1']=df_nasdaq_100.rolling(window=1).Close.mean()\n",
    "df_nasdaq_100['ndx_ma2']=df_nasdaq_100.rolling(window=2).Close.mean()\n",
    "df_nasdaq_100['ndx_ma3']=df_nasdaq_100.rolling(window=3).Close.mean()\n",
    "df_nasdaq_100['ndx_ma4']=df_nasdaq_100.rolling(window=4).Close.mean()\n",
    "df_nasdaq_100['ndx_ma5']=df_nasdaq_100.rolling(window=5).Close.mean()\n",
    "df_nasdaq_100['ndx_ma6']=df_nasdaq_100.rolling(window=6).Close.mean()\n",
    "df_nasdaq_100['ndx_ma7']=df_nasdaq_100.rolling(window=7).Close.mean()\n",
    "df_nasdaq_100['ndx_ma8']=df_nasdaq_100.rolling(window=8).Close.mean()\n",
    "df_nasdaq_100['ndx_ma9']=df_nasdaq_100.rolling(window=9).Close.mean()\n",
    "df_nasdaq_100['ndx_ma10']=df_nasdaq_100.rolling(window=10).Close.mean()\n",
    "df_nasdaq_100['ndx_ma14']=df_nasdaq_100.rolling(window=14).Close.mean()\n",
    "df_nasdaq_100['ndx_ma21']=df_nasdaq_100.rolling(window=21).Close.mean()\n",
    "df_nasdaq_100['ndx_ma28']=df_nasdaq_100.rolling(window=28).Close.mean()\n",
    "\n",
    "\n",
    "# #Calculate RSI data\n",
    "# delta = df_nasdaq_100.Close.diff()\n",
    "# window = 8\n",
    "# up_days = delta.copy()\n",
    "# up_days[delta<=0]=0.0\n",
    "# down_days = abs(delta.copy())\n",
    "# down_days[delta>0]=0.0\n",
    "# RS_up = up_days.rolling(window).mean()\n",
    "# RS_down = down_days.rolling(window).mean()\n",
    "# rsi= 100-100/(1+RS_up/RS_down)\n",
    "\n",
    "df_nasdaq_100.head \n",
    "                       "
   ]
  },
  {
   "cell_type": "markdown",
   "metadata": {},
   "source": [
    "# Get Covid19 Data"
   ]
  },
  {
   "cell_type": "markdown",
   "metadata": {},
   "source": [
    "- Import Covid19 worldwide data from file provided by the ECDC (European Centre for Disease Prevention and Control) \n",
    "[https://www.ecdc.europa.eu/en/geographical-distribution-2019-ncov-cases] and calculate the rolling 7,14,21,28 moving average.  Pipe to new file."
   ]
  },
  {
   "cell_type": "code",
   "execution_count": null,
   "metadata": {},
   "outputs": [],
   "source": [
    "covid19_data = pd.read_csv('ecdc_covid_worldwide_data.csv')"
   ]
  },
  {
   "cell_type": "code",
   "execution_count": null,
   "metadata": {},
   "outputs": [],
   "source": [
    "usa_covid19_data = covid19_data[covid19_data['countriesAndTerritories']=='United_States_of_America']"
   ]
  },
  {
   "cell_type": "markdown",
   "metadata": {},
   "source": [
    "## Add Covid19 USA  No. Moving  Averages"
   ]
  },
  {
   "cell_type": "code",
   "execution_count": null,
   "metadata": {},
   "outputs": [],
   "source": [
    "#Calculate moving average data for usa and then worldwide\n",
    "usa_covid19_data['usa_cases_ma7']=usa_covid19_data.rolling(window=7).cases.mean()\n",
    "usa_covid19_data['usa_cases_ma14']=usa_covid19_data.rolling(window=14).cases.mean()\n",
    "usa_covid19_data['usa_cases_ma21']=usa_covid19_data.rolling(window=21).cases.mean()\n",
    "usa_covid19_data['usa_cases_ma28']=usa_covid19_data.rolling(window=28).cases.mean()\n"
   ]
  },
  {
   "cell_type": "markdown",
   "metadata": {},
   "source": [
    "## Add Nasdaq daily closing price"
   ]
  },
  {
   "cell_type": "markdown",
   "metadata": {},
   "source": [
    "- Join closing price of NDX df by date to covid19_ndx df by date. Set datetime index for both before joining"
   ]
  },
  {
   "cell_type": "code",
   "execution_count": null,
   "metadata": {},
   "outputs": [],
   "source": [
    "usa_covid19_data = usa_covid19_data.rename(columns={'dateRep': 'Date'})\n",
    "usa_covid19_data = usa_covid19_data.rename(columns={'cases': 'usa_daily_cases'})"
   ]
  },
  {
   "cell_type": "code",
   "execution_count": null,
   "metadata": {},
   "outputs": [],
   "source": [
    "usa_covid19_data.head()"
   ]
  },
  {
   "cell_type": "code",
   "execution_count": null,
   "metadata": {},
   "outputs": [],
   "source": [
    "def make_datetime_index(df,col_to_make_index = 'Date', drop=False, verbose=True):\n",
    "    '''           \n",
    "         Transforms data into datetime object with time as index, defaulted as monthly     \n",
    "         \n",
    "         df          Dataframe to transform     \n",
    "    '''\n",
    "\n",
    "    df[col_to_make_index] = pd.to_datetime(df[col_to_make_index], errors='coerce')\n",
    "    df = df.set_index('Date', drop=False)\n",
    "    if verbose:\n",
    "        display(df.index)\n",
    "    return df"
   ]
  },
  {
   "cell_type": "code",
   "execution_count": null,
   "metadata": {},
   "outputs": [],
   "source": [
    "# usa_covid19_data.set_index(pd.to_datetime(usa_covid19_data['dateRep']), inplace=True)\n",
    "usa_covid19_data = make_datetime_index(usa_covid19_data)"
   ]
  },
  {
   "cell_type": "code",
   "execution_count": null,
   "metadata": {},
   "outputs": [],
   "source": [
    "usa_covid19_data.head()"
   ]
  },
  {
   "cell_type": "code",
   "execution_count": null,
   "metadata": {},
   "outputs": [],
   "source": [
    "# # df_nasdaq_100.set_index(pd.to_datetime(df_nasdaq_100['Date']), inplace=True)\n",
    "# df_nasdaq_100 = make_datetime_index(df_nasdaq_100)"
   ]
  },
  {
   "cell_type": "code",
   "execution_count": null,
   "metadata": {},
   "outputs": [],
   "source": [
    "df_nasdaq_100.head()"
   ]
  },
  {
   "cell_type": "code",
   "execution_count": null,
   "metadata": {},
   "outputs": [],
   "source": [
    "usa_covid19_ndx_data = df_nasdaq_100.join(usa_covid19_data, how='left')"
   ]
  },
  {
   "cell_type": "code",
   "execution_count": null,
   "metadata": {},
   "outputs": [],
   "source": [
    "usa_covid19_ndx_data.tail()"
   ]
  },
  {
   "cell_type": "code",
   "execution_count": null,
   "metadata": {},
   "outputs": [],
   "source": [
    "\n",
    "\n",
    "# usa_covid19_ndx_data=pd.merge(df_nasdaq_100,usa_covid19_data, how='inner', on='Date')\n"
   ]
  },
  {
   "cell_type": "code",
   "execution_count": null,
   "metadata": {},
   "outputs": [],
   "source": [
    "# df_1.merge(df_2, left_index=True, right_index=True, how='inner')"
   ]
  },
  {
   "cell_type": "code",
   "execution_count": null,
   "metadata": {},
   "outputs": [],
   "source": [
    "# df = df[df['date'].notnull() == True].set_index('date')\n",
    "#       d = d[d['date'].notnull() == True].set_index('date')\n",
    "#       df.join(d, how='right')"
   ]
  },
  {
   "cell_type": "code",
   "execution_count": null,
   "metadata": {},
   "outputs": [],
   "source": [
    "#Validate nulls\n",
    "\n",
    "nulls = usa_covid19_ndx_data.isna().sum()\n",
    "nulls[nulls >0]"
   ]
  },
  {
   "cell_type": "code",
   "execution_count": null,
   "metadata": {},
   "outputs": [],
   "source": [
    "usa_covid19_ndx_data = usa_covid19_ndx_data.dropna(how='any',axis=0)"
   ]
  },
  {
   "cell_type": "markdown",
   "metadata": {},
   "source": [
    "# Save data to file"
   ]
  },
  {
   "cell_type": "code",
   "execution_count": null,
   "metadata": {},
   "outputs": [],
   "source": [
    "df_nasdaq_100.to_csv(r'nasdaq100_upto10_ma.csv', index = True, header = True)"
   ]
  },
  {
   "cell_type": "code",
   "execution_count": null,
   "metadata": {},
   "outputs": [],
   "source": [
    "# df_nasdaq_100.describe"
   ]
  },
  {
   "cell_type": "code",
   "execution_count": null,
   "metadata": {},
   "outputs": [],
   "source": [
    "usa_covid19_data.to_csv(r'ecdc_covid_usa.csv', index = True, header = True)"
   ]
  },
  {
   "cell_type": "code",
   "execution_count": null,
   "metadata": {},
   "outputs": [],
   "source": [
    "usa_covid19_ndx_data.to_csv(r'ecdc_covid_usa_nasdaq_close_price.csv', index = True, header = True)"
   ]
  },
  {
   "cell_type": "code",
   "execution_count": null,
   "metadata": {},
   "outputs": [],
   "source": []
  },
  {
   "cell_type": "code",
   "execution_count": null,
   "metadata": {},
   "outputs": [],
   "source": []
  }
 ],
 "metadata": {
  "kernelspec": {
   "display_name": "Python [conda env:learn-env] *",
   "language": "python",
   "name": "conda-env-learn-env-py"
  },
  "language_info": {
   "codemirror_mode": {
    "name": "ipython",
    "version": 3
   },
   "file_extension": ".py",
   "mimetype": "text/x-python",
   "name": "python",
   "nbconvert_exporter": "python",
   "pygments_lexer": "ipython3",
   "version": "3.6.6"
  },
  "toc": {
   "base_numbering": 1,
   "nav_menu": {},
   "number_sections": true,
   "sideBar": true,
   "skip_h1_title": false,
   "title_cell": "Table of Contents",
   "title_sidebar": "Contents",
   "toc_cell": true,
   "toc_position": {
    "height": "calc(100% - 180px)",
    "left": "10px",
    "top": "150px",
    "width": "283.796875px"
   },
   "toc_section_display": true,
   "toc_window_display": true
  },
  "varInspector": {
   "cols": {
    "lenName": 16,
    "lenType": 16,
    "lenVar": 40
   },
   "kernels_config": {
    "python": {
     "delete_cmd_postfix": "",
     "delete_cmd_prefix": "del ",
     "library": "var_list.py",
     "varRefreshCmd": "print(var_dic_list())"
    },
    "r": {
     "delete_cmd_postfix": ") ",
     "delete_cmd_prefix": "rm(",
     "library": "var_list.r",
     "varRefreshCmd": "cat(var_dic_list()) "
    }
   },
   "types_to_exclude": [
    "module",
    "function",
    "builtin_function_or_method",
    "instance",
    "_Feature"
   ],
   "window_display": false
  }
 },
 "nbformat": 4,
 "nbformat_minor": 2
}
