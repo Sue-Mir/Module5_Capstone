{
 "cells": [
  {
   "cell_type": "markdown",
   "metadata": {},
   "source": [
    "Student Name:  Sue Mir\n",
    "\n",
    "Cohort: Data Science / 17/12/2020 - Module 5 - Capstone"
   ]
  },
  {
   "cell_type": "markdown",
   "metadata": {
    "toc": true
   },
   "source": [
    "<h1>Table of Contents<span class=\"tocSkip\"></span></h1>\n",
    "<div class=\"toc\"><ul class=\"toc-item\"><li><span><a href=\"#Introduction\" data-toc-modified-id=\"Introduction-1\"><span class=\"toc-item-num\">1&nbsp;&nbsp;</span>Introduction</a></span></li><li><span><a href=\"#Import-Libraries\" data-toc-modified-id=\"Import-Libraries-2\"><span class=\"toc-item-num\">2&nbsp;&nbsp;</span>Import Libraries</a></span></li><li><span><a href=\"#Define-Functions\" data-toc-modified-id=\"Define-Functions-3\"><span class=\"toc-item-num\">3&nbsp;&nbsp;</span>Define Functions</a></span></li><li><span><a href=\"#Get-Market-Data---NDX\" data-toc-modified-id=\"Get-Market-Data---NDX-4\"><span class=\"toc-item-num\">4&nbsp;&nbsp;</span>Get Market Data - NDX</a></span><ul class=\"toc-item\"><li><span><a href=\"#Add-Technical-Indicator---MA-Data\" data-toc-modified-id=\"Add-Technical-Indicator---MA-Data-4.1\"><span class=\"toc-item-num\">4.1&nbsp;&nbsp;</span>Add Technical Indicator - MA Data</a></span></li></ul></li><li><span><a href=\"#Get-Covid19-Data\" data-toc-modified-id=\"Get-Covid19-Data-5\"><span class=\"toc-item-num\">5&nbsp;&nbsp;</span>Get Covid19 Data</a></span><ul class=\"toc-item\"><li><span><a href=\"#Add-Covid19-USA--No.-Moving--Averages\" data-toc-modified-id=\"Add-Covid19-USA--No.-Moving--Averages-5.1\"><span class=\"toc-item-num\">5.1&nbsp;&nbsp;</span>Add Covid19 USA  No. Moving  Averages</a></span></li><li><span><a href=\"#Add-Nasdaq-daily-closing-price\" data-toc-modified-id=\"Add-Nasdaq-daily-closing-price-5.2\"><span class=\"toc-item-num\">5.2&nbsp;&nbsp;</span>Add Nasdaq daily closing price</a></span></li></ul></li><li><span><a href=\"#Save-data-to-files\" data-toc-modified-id=\"Save-data-to-files-6\"><span class=\"toc-item-num\">6&nbsp;&nbsp;</span>Save data to files</a></span></li></ul></div>"
   ]
  },
  {
   "cell_type": "markdown",
   "metadata": {},
   "source": [
    "# Introduction\n",
    "\n"
   ]
  },
  {
   "cell_type": "markdown",
   "metadata": {},
   "source": [
    "This module is part of the project 'Were US Covid19 daily case numbers a predictor for the NASDAQ100 stock market index in 2020'?\n",
    "\n",
    "The Main Goal of this module is the following:\n",
    "    \n",
    "1) Retrieve daily Nasdaq data from yahoo finance api for the period 6 months before and after the COVID19 Stock Market crash.  Add moving average technical indicator data to this dataset. Save to xls file.\n",
    "       \n",
    "2) Load Covid19 Case number data from ECDC(European Centre Disease Control) and create daily moving averages joined with NASDAQ closing price by date. Save to xls file.\n",
    "    "
   ]
  },
  {
   "cell_type": "code",
   "execution_count": null,
   "metadata": {},
   "outputs": [],
   "source": [
    "### Get data from Yahoo Finance using yfinance package"
   ]
  },
  {
   "cell_type": "markdown",
   "metadata": {},
   "source": [
    "# Import Libraries"
   ]
  },
  {
   "cell_type": "code",
   "execution_count": null,
   "metadata": {},
   "outputs": [],
   "source": [
    "#pip install yfinance"
   ]
  },
  {
   "cell_type": "code",
   "execution_count": null,
   "metadata": {},
   "outputs": [],
   "source": [
    "import pandas as pd\n",
    "import numpy as np\n",
    "import yfinance as yf\n",
    "import gc; gc.enable()\n",
    "import warnings\n",
    "warnings.filterwarnings(\"ignore\")\n",
    "\n",
    "#Dates to extract NASDAQ stock market ticker daily data from Yahoo finance\n",
    "start_date = \"2019-07-01\"\n",
    "end_date = \"2020-06-30\""
   ]
  },
  {
   "cell_type": "markdown",
   "metadata": {},
   "source": [
    "# Define Functions"
   ]
  },
  {
   "cell_type": "code",
   "execution_count": null,
   "metadata": {},
   "outputs": [],
   "source": [
    "def make_datetime_index(df,col_to_make_index = 'Date', drop=False, verbose=True):\n",
    "    '''           \n",
    "         Transforms data into datetime object with time as index, defaulted as monthly     \n",
    "         \n",
    "         df          Dataframe to transform     \n",
    "    '''\n",
    "\n",
    "    df[col_to_make_index] = pd.to_datetime(df[col_to_make_index], errors='coerce')\n",
    "    df = df.set_index('Date', drop=False)\n",
    "    if verbose:\n",
    "        display(df.index)\n",
    "    return df"
   ]
  },
  {
   "cell_type": "markdown",
   "metadata": {},
   "source": [
    "# Get Market Data - NDX "
   ]
  },
  {
   "cell_type": "markdown",
   "metadata": {},
   "source": [
    "source for stocks list: [https://whalewisdom.com/filer/renaissance-technologies-llc]"
   ]
  },
  {
   "cell_type": "code",
   "execution_count": null,
   "metadata": {},
   "outputs": [],
   "source": [
    "# df_nasdaq_100 = yf.download(\"NDX\", start=\"2015-01-01\", end=\"2020-11-02\")\n",
    "\n",
    "df_nasdaq_100 = yf.download(\"NDX\", start=start_date, end=end_date)"
   ]
  },
  {
   "cell_type": "code",
   "execution_count": null,
   "metadata": {},
   "outputs": [],
   "source": [
    "print(df_nasdaq_100)"
   ]
  },
  {
   "cell_type": "markdown",
   "metadata": {},
   "source": [
    "## Add Technical Indicator - MA Data"
   ]
  },
  {
   "cell_type": "code",
   "execution_count": null,
   "metadata": {},
   "outputs": [],
   "source": [
    "#Calculate moving average data\n",
    "df_nasdaq_100['ndx_ma1']=df_nasdaq_100.rolling(window=1).Close.mean()\n",
    "df_nasdaq_100['ndx_ma2']=df_nasdaq_100.rolling(window=2).Close.mean()\n",
    "df_nasdaq_100['ndx_ma3']=df_nasdaq_100.rolling(window=3).Close.mean()\n",
    "df_nasdaq_100['ndx_ma4']=df_nasdaq_100.rolling(window=4).Close.mean()\n",
    "df_nasdaq_100['ndx_ma5']=df_nasdaq_100.rolling(window=5).Close.mean()\n",
    "df_nasdaq_100['ndx_ma6']=df_nasdaq_100.rolling(window=6).Close.mean()\n",
    "df_nasdaq_100['ndx_ma7']=df_nasdaq_100.rolling(window=7).Close.mean()\n",
    "df_nasdaq_100['ndx_ma8']=df_nasdaq_100.rolling(window=8).Close.mean()\n",
    "df_nasdaq_100['ndx_ma9']=df_nasdaq_100.rolling(window=9).Close.mean()\n",
    "df_nasdaq_100['ndx_ma10']=df_nasdaq_100.rolling(window=10).Close.mean()\n",
    "df_nasdaq_100['ndx_ma14']=df_nasdaq_100.rolling(window=14).Close.mean()\n",
    "df_nasdaq_100['ndx_ma21']=df_nasdaq_100.rolling(window=21).Close.mean()\n",
    "df_nasdaq_100['ndx_ma28']=df_nasdaq_100.rolling(window=28).Close.mean()\n",
    "\n",
    "\n",
    "df_nasdaq_100.head \n",
    "                       "
   ]
  },
  {
   "cell_type": "markdown",
   "metadata": {},
   "source": [
    "# Get Covid19 Data"
   ]
  },
  {
   "cell_type": "markdown",
   "metadata": {},
   "source": [
    "- Import Covid19 worldwide data from file provided by the ECDC (European Centre for Disease Prevention and Control) \n",
    "[https://www.ecdc.europa.eu/en/geographical-distribution-2019-ncov-cases] and calculate the rolling 7,14,21,28 moving average.  Pipe to new file."
   ]
  },
  {
   "cell_type": "code",
   "execution_count": null,
   "metadata": {},
   "outputs": [],
   "source": [
    "covid19_data = pd.read_csv('ecdc_covid_worldwide_data.csv')"
   ]
  },
  {
   "cell_type": "code",
   "execution_count": null,
   "metadata": {},
   "outputs": [],
   "source": [
    "usa_covid19_data = covid19_data[covid19_data['countriesAndTerritories']=='United_States_of_America']"
   ]
  },
  {
   "cell_type": "markdown",
   "metadata": {},
   "source": [
    "## Add Covid19 USA  No. Moving  Averages"
   ]
  },
  {
   "cell_type": "code",
   "execution_count": null,
   "metadata": {},
   "outputs": [],
   "source": [
    "#Calculate moving average data for usa and then worldwide\n",
    "usa_covid19_data['usa_cases_ma7']=usa_covid19_data.rolling(window=7).cases.mean()\n",
    "usa_covid19_data['usa_cases_ma14']=usa_covid19_data.rolling(window=14).cases.mean()\n",
    "usa_covid19_data['usa_cases_ma21']=usa_covid19_data.rolling(window=21).cases.mean()\n",
    "usa_covid19_data['usa_cases_ma28']=usa_covid19_data.rolling(window=28).cases.mean()\n"
   ]
  },
  {
   "cell_type": "markdown",
   "metadata": {},
   "source": [
    "## Add Nasdaq daily closing price"
   ]
  },
  {
   "cell_type": "markdown",
   "metadata": {},
   "source": [
    "- Join closing price of NDX df by date to covid19_ndx df by date. Set datetime index for both before joining"
   ]
  },
  {
   "cell_type": "code",
   "execution_count": null,
   "metadata": {},
   "outputs": [],
   "source": [
    "usa_covid19_data = usa_covid19_data.rename(columns={'dateRep': 'Date'})\n",
    "usa_covid19_data = usa_covid19_data.rename(columns={'cases': 'usa_daily_cases'})"
   ]
  },
  {
   "cell_type": "code",
   "execution_count": null,
   "metadata": {},
   "outputs": [],
   "source": [
    "usa_covid19_data.head()"
   ]
  },
  {
   "cell_type": "code",
   "execution_count": null,
   "metadata": {},
   "outputs": [],
   "source": [
    "# usa_covid19_data.set_index(pd.to_datetime(usa_covid19_data['dateRep']), inplace=True)\n",
    "usa_covid19_data = make_datetime_index(usa_covid19_data)"
   ]
  },
  {
   "cell_type": "code",
   "execution_count": null,
   "metadata": {},
   "outputs": [],
   "source": [
    "usa_covid19_data.head()"
   ]
  },
  {
   "cell_type": "code",
   "execution_count": null,
   "metadata": {},
   "outputs": [],
   "source": [
    "# # df_nasdaq_100.set_index(pd.to_datetime(df_nasdaq_100['Date']), inplace=True)\n",
    "# df_nasdaq_100 = make_datetime_index(df_nasdaq_100)"
   ]
  },
  {
   "cell_type": "code",
   "execution_count": null,
   "metadata": {},
   "outputs": [],
   "source": [
    "df_nasdaq_100.head()"
   ]
  },
  {
   "cell_type": "code",
   "execution_count": null,
   "metadata": {},
   "outputs": [],
   "source": [
    "usa_covid19_ndx_data = df_nasdaq_100.join(usa_covid19_data, how='left')"
   ]
  },
  {
   "cell_type": "code",
   "execution_count": null,
   "metadata": {},
   "outputs": [],
   "source": [
    "usa_covid19_ndx_data.tail()"
   ]
  },
  {
   "cell_type": "code",
   "execution_count": null,
   "metadata": {},
   "outputs": [],
   "source": [
    "#Validate nulls\n",
    "\n",
    "nulls = usa_covid19_ndx_data.isna().sum()\n",
    "nulls[nulls >0]"
   ]
  },
  {
   "cell_type": "code",
   "execution_count": null,
   "metadata": {},
   "outputs": [],
   "source": [
    "usa_covid19_ndx_data = usa_covid19_ndx_data.dropna(how='any',axis=0)"
   ]
  },
  {
   "cell_type": "markdown",
   "metadata": {},
   "source": [
    "# Save data to files"
   ]
  },
  {
   "cell_type": "code",
   "execution_count": null,
   "metadata": {},
   "outputs": [],
   "source": [
    "df_nasdaq_100.to_csv(r'nasdaq100_upto10_ma.csv', index = True, header = True)"
   ]
  },
  {
   "cell_type": "code",
   "execution_count": null,
   "metadata": {},
   "outputs": [],
   "source": [
    "usa_covid19_data.to_csv(r'ecdc_covid_usa.csv', index = True, header = True)"
   ]
  },
  {
   "cell_type": "code",
   "execution_count": null,
   "metadata": {},
   "outputs": [],
   "source": [
    "usa_covid19_ndx_data.to_csv(r'ecdc_covid_usa_nasdaq_close_price.csv', index = True, header = True)"
   ]
  }
 ],
 "metadata": {
  "kernelspec": {
   "display_name": "Python [conda env:learn-env] *",
   "language": "python",
   "name": "conda-env-learn-env-py"
  },
  "language_info": {
   "codemirror_mode": {
    "name": "ipython",
    "version": 3
   },
   "file_extension": ".py",
   "mimetype": "text/x-python",
   "name": "python",
   "nbconvert_exporter": "python",
   "pygments_lexer": "ipython3",
   "version": "3.6.6"
  },
  "toc": {
   "base_numbering": 1,
   "nav_menu": {},
   "number_sections": true,
   "sideBar": true,
   "skip_h1_title": false,
   "title_cell": "Table of Contents",
   "title_sidebar": "Contents",
   "toc_cell": true,
   "toc_position": {
    "height": "calc(100% - 180px)",
    "left": "10px",
    "top": "150px",
    "width": "283.796875px"
   },
   "toc_section_display": true,
   "toc_window_display": true
  },
  "varInspector": {
   "cols": {
    "lenName": 16,
    "lenType": 16,
    "lenVar": 40
   },
   "kernels_config": {
    "python": {
     "delete_cmd_postfix": "",
     "delete_cmd_prefix": "del ",
     "library": "var_list.py",
     "varRefreshCmd": "print(var_dic_list())"
    },
    "r": {
     "delete_cmd_postfix": ") ",
     "delete_cmd_prefix": "rm(",
     "library": "var_list.r",
     "varRefreshCmd": "cat(var_dic_list()) "
    }
   },
   "types_to_exclude": [
    "module",
    "function",
    "builtin_function_or_method",
    "instance",
    "_Feature"
   ],
   "window_display": false
  }
 },
 "nbformat": 4,
 "nbformat_minor": 2
}
